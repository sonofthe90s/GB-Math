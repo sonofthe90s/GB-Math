{
 "cells": [
  {
   "cell_type": "code",
   "execution_count": null,
   "metadata": {},
   "outputs": [],
   "source": [
    "# 1.1. Задание\n",
    "# Даны два вектора в трехмерном пространстве: (10,10,10) и (0,0,-10)\n",
    "# Найдите их сумму. (на листочке)\n",
    "# Напишите код на Python, реализующий расчет длины вектора, заданного его координатами. (в программе)"
   ]
  },
  {
   "cell_type": "code",
   "execution_count": null,
   "metadata": {},
   "outputs": [],
   "source": [
    "x1 = [10, 10, 10]\n",
    "x2 = [0, 0, -10]\n",
    "for i in range(len(x1)):\n",
    "    x1[i] += x2[i]\n",
    "\n",
    "print(f'Ответ: {tuple(x1)}')\n",
    "\n",
    "# Ответ: (10;10;0)"
   ]
  },
  {
   "cell_type": "code",
   "execution_count": null,
   "metadata": {},
   "outputs": [],
   "source": [
    "# 1.2. Задание\n",
    "# Почему прямые не кажутся перпендикулярными?"
   ]
  },
  {
   "cell_type": "code",
   "execution_count": null,
   "metadata": {},
   "outputs": [],
   "source": [
    "%matplotlib inline\n",
    "import numpy as np\n",
    "import matplotlib.pyplot as plt\n",
    "import math"
   ]
  },
  {
   "cell_type": "code",
   "execution_count": null,
   "metadata": {},
   "outputs": [],
   "source": [
    "x = np.linspace(-5, 5, 21)\n",
    "y = 3 * x + 1\n",
    "y2 = (- 1/3) * x + 1\n",
    "plt.plot(x, y)\n",
    "plt.plot(x, y2)\n",
    "plt.xlabel(\"x\")\n",
    "plt.ylabel(\"y\")\n",
    "\n",
    "# Ответ: прямые не кажутся перпендикулярными из-за разного масштаба осей X и Y.\n",
    "# Если их сделать одинаковыми, то визуально будет видно перпендикулярность."
   ]
  },
  {
   "cell_type": "code",
   "execution_count": null,
   "metadata": {},
   "outputs": [],
   "source": [
    "#  1.3. Задание (в программе)\n",
    "# Напишите код на Python, реализующий построение графиков:\n",
    "# 1.) окружности,\n",
    "# 2.) эллипса,\n",
    "# 3.) гиперболы."
   ]
  },
  {
   "cell_type": "code",
   "execution_count": null,
   "metadata": {},
   "outputs": [],
   "source": [
    "# Окружность:\n",
    "\n",
    "y1 = []\n",
    "y2 = []\n",
    "r = 20\n",
    "x = np.linspace(-r, r, 100)\n",
    "for i in x:\n",
    "    y1.append(math.sqrt(r ** 2 - i ** 2))\n",
    "    y2.append(-math.sqrt(r ** 2 - i ** 2))\n",
    "plt.figure(figsize=(3, 3))\n",
    "plt.plot(x,y1)\n",
    "plt.plot(x,y2)\n",
    "plt.xlabel(\"x\")\n",
    "plt.ylabel(\"y\")"
   ]
  },
  {
   "cell_type": "code",
   "execution_count": null,
   "metadata": {},
   "outputs": [],
   "source": [
    "# Эллипс:\n",
    "\n",
    "a = 20\n",
    "b = 10\n",
    "y1 = []\n",
    "y2 = []\n",
    "x = np.linspace(-a, a, 100)\n",
    "for i in x:\n",
    "    y1.append(b / a * math.sqrt(a ** 2 - i ** 2))\n",
    "    y2.append(-b / a * math.sqrt(a ** 2 - i ** 2))\n",
    "plt.figure(figsize=(2, 1))\n",
    "plt.plot(x, y1)\n",
    "plt.plot(x, y2)\n",
    "plt.xlabel(\"x\")\n",
    "plt.ylabel(\"y\")"
   ]
  },
  {
   "cell_type": "code",
   "execution_count": null,
   "metadata": {},
   "outputs": [],
   "source": [
    "# 1.5. Задание (в программе)\n",
    "# 1.) Нарисуйте трехмерный график двух параллельных плоскостей.\n",
    "# 2.) Нарисуйте трехмерный график двух любых поверхностей второго порядка."
   ]
  },
  {
   "cell_type": "code",
   "execution_count": null,
   "metadata": {},
   "outputs": [],
   "source": [
    "from mpl_toolkits.mplot3d import Axes3D\n",
    "fig = figure()\n",
    "ax = Axes3D(fig)\n",
    "X = np.arange(-10, 10, 1)\n",
    "Y = np.arange(-10, 10, 1)\n",
    "X, Y= np.meshgrid(X, Y)\n",
    "Z = 2 * X + 3 * Y\n",
    "Z2 = 2 * X + 3 * Y - 30\n",
    "ax.plot_wireframe(X, Y, Z)\n",
    "ax.plot_wireframe(X, Y, Z2)\n",
    "show()"
   ]
  },
  {
   "cell_type": "code",
   "execution_count": null,
   "metadata": {},
   "outputs": [],
   "source": [
    "# Задание 2.1.\n",
    "# Нарисуйте график функции:\n",
    "# y(x) = k∙cos(x – a) + b для некоторых (2-3 различных) значений параметров k, a, b"
   ]
  },
  {
   "cell_type": "code",
   "execution_count": null,
   "metadata": {},
   "outputs": [],
   "source": [
    "def my_func(x, k=1, a=0, b=0):\n",
    "    return k * np.cos(x - a) + b"
   ]
  },
  {
   "cell_type": "code",
   "execution_count": null,
   "metadata": {},
   "outputs": [],
   "source": [
    "x = np.linspace(-3 * np.pi, 3 * np.pi, 201)\n",
    "plt.plot(x, my_func(x))\n",
    "plt.plot(x, my_func(x, 0.3))\n",
    "plt.plot(x, my_func(x, 2, np.pi/2, 1))\n",
    "plt.xlabel('x')\n",
    "plt.ylabel('y')\n",
    "plt.grid(True)\n",
    "plt.show()"
   ]
  },
  {
   "cell_type": "code",
   "execution_count": null,
   "metadata": {},
   "outputs": [],
   "source": [
    "# Задание 2.3.\n",
    "# Напишите код, который будет переводить полярные координаты в декартовы.\n",
    "# Напишите код, который будет рисовать график окружности в полярных координатах.\n",
    "# Напишите код, который будет рисовать график отрезка прямой линии в полярных координатах."
   ]
  },
  {
   "cell_type": "code",
   "execution_count": null,
   "metadata": {},
   "outputs": [],
   "source": [
    "1.)\n",
    "def to_dec(r=0, alpha=0):\n",
    "    x = r * np.cos(alpha)\n",
    "    y = r * np.sin(alpha)\n",
    "    return x, y"
   ]
  },
  {
   "cell_type": "code",
   "execution_count": null,
   "metadata": {},
   "outputs": [],
   "source": [
    "2.)\n",
    "alpha = np.linspace(0, 2 * np.pi, 100)\n",
    "r = 20\n",
    "x, y = to_dec(r, alpha)\n",
    "plt.figure(figsize=(4, 4))\n",
    "plt.plot(x, y)\n",
    "plt.xlabel('x')\n",
    "plt.ylabel('y')\n",
    "plt.grid(True)\n",
    "plt.show()"
   ]
  },
  {
   "cell_type": "code",
   "execution_count": null,
   "metadata": {},
   "outputs": [],
   "source": [
    "# Задание 2.4.\n",
    "# 1.) Решите систему уравнений:\n",
    "# y = x2 – 1\n",
    "# exp(x) + x∙(1 – y) = 1\n",
    "\n",
    "# 2.) Решите систему уравнений и неравенств:\n",
    "# y = x ** 2 – 1\n",
    "# exp(x) + x * (1 – y) > 1"
   ]
  },
  {
   "cell_type": "code",
   "execution_count": null,
   "metadata": {},
   "outputs": [],
   "source": [
    "# 1.)\n",
    "def eq_root(z):\n",
    "   x = z[0]\n",
    "   y = z[1]\n",
    "   F = np.empty((2))\n",
    "   F[0] = x ** 2 - y - 1\n",
    "   F[1] = exp(x) + x * (1 - y) - 1\n",
    "   return F\n",
    "\n",
    "z_pred = np.array([1,1])\n",
    "z = fsolve(eq_root,z_pred)\n",
    "print('x =', z[0],' ', 'y =', z[1])"
   ]
  }
 ],
 "metadata": {
  "kernelspec": {
   "display_name": "Python 3",
   "language": "python",
   "name": "python3"
  },
  "language_info": {
   "codemirror_mode": {
    "name": "ipython",
    "version": 3
   },
   "file_extension": ".py",
   "mimetype": "text/x-python",
   "name": "python",
   "nbconvert_exporter": "python",
   "pygments_lexer": "ipython3",
   "version": "3.7.6"
  }
 },
 "nbformat": 4,
 "nbformat_minor": 4
}
